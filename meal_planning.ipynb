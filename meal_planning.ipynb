{
  "nbformat": 4,
  "nbformat_minor": 0,
  "metadata": {
    "colab": {
      "provenance": []
    },
    "kernelspec": {
      "name": "python3",
      "display_name": "Python 3"
    },
    "language_info": {
      "name": "python"
    }
  },
  "cells": [
    {
      "cell_type": "code",
      "execution_count": 10,
      "metadata": {
        "id": "tjGcxhoZ4f9P"
      },
      "outputs": [],
      "source": [
        "import numpy as np\n",
        "import random"
      ]
    },
    {
      "cell_type": "code",
      "source": [
        "# meal dataset\n",
        "meal_data = [\n",
        "    {\"name\": \"Rice and Curry\", \"calories\": 450, \"protein\": 20, \"carbs\": 55, \"fats\": 10},\n",
        "    {\"name\": \"Hoppers\", \"calories\": 400, \"protein\": 10, \"carbs\": 50, \"fats\": 8},\n",
        "    {\"name\": \"Fish Curry\", \"calories\": 350, \"protein\": 30, \"carbs\": 5, \"fats\": 12},\n",
        "    {\"name\": \"Cheese Pasta\", \"calories\": 500, \"protein\": 25, \"carbs\": 60, \"fats\": 20},\n",
        "    {\"name\": \"Grilled Chicken\", \"calories\": 300, \"protein\": 40, \"carbs\": 10, \"fats\": 8},\n",
        "    {\"name\": \"Vegetable Salad\", \"calories\": 250, \"protein\": 15, \"carbs\": 40, \"fats\": 5},\n",
        "    {\"name\": \"Burger and Fries\", \"calories\": 800, \"protein\": 30, \"carbs\": 90, \"fats\": 25},\n",
        "    {\"name\": \"String Hoppers\", \"calories\": 600, \"protein\": 15, \"carbs\": 70, \"fats\": 20},\n",
        "]"
      ],
      "metadata": {
        "id": "4RPGJRJE495k"
      },
      "execution_count": 11,
      "outputs": []
    },
    {
      "cell_type": "code",
      "source": [
        "# user preferences and goals\n",
        "goals = {\n",
        "    \"calories\": 500,\n",
        "    \"protein\": 30,\n",
        "    \"carbs\": 50,\n",
        "    \"fats\": 10,\n",
        "}"
      ],
      "metadata": {
        "id": "WhgT-XMN5XIW"
      },
      "execution_count": 12,
      "outputs": []
    },
    {
      "cell_type": "code",
      "source": [
        "# Objective function\n",
        "def objective_function(meal_indices):\n",
        "    total = {\n",
        "        \"calories\": 0,\n",
        "        \"protein\": 0,\n",
        "        \"carbs\": 0,\n",
        "        \"fats\": 0,\n",
        "    }\n",
        "\n",
        "    for idx in meal_indices:\n",
        "        meal = meal_data[idx]\n",
        "        for key in total:\n",
        "            total[key] += meal[key]\n",
        "\n",
        "    # Calculate the weighted difference from the goal\n",
        "    score = sum(abs(total[key] - goals[key]) for key in goals)\n",
        "    return score"
      ],
      "metadata": {
        "id": "RYvnl1QU5ksh"
      },
      "execution_count": 13,
      "outputs": []
    },
    {
      "cell_type": "code",
      "source": [
        "# Particle class\n",
        "class Particle:\n",
        "    def __init__(self, num_meals, n_particles):\n",
        "        self.position = random.sample(range(num_meals), n_particles)  # Unique meal indices\n",
        "        self.velocity = [0] * n_particles\n",
        "        self.best_position = list(self.position)\n",
        "        self.best_score = float('inf')"
      ],
      "metadata": {
        "id": "3cZYIMNl5tDW"
      },
      "execution_count": 14,
      "outputs": []
    },
    {
      "cell_type": "code",
      "source": [
        "# PSO Algorithm\n",
        "def particle_swarm_optimization(objective, num_meals, n_particles, num_particles, num_iterations):\n",
        "    particles = [Particle(num_meals, n_particles) for _ in range(num_particles)]\n",
        "    global_best_position = None\n",
        "    global_best_score = float('inf')\n",
        "\n",
        "    w = 0.5  # inertia weight\n",
        "    c1 = 1   # cognitive parameter\n",
        "    c2 = 2   # social parameter\n",
        "\n",
        "    for _ in range(num_iterations):\n",
        "        for particle in particles:\n",
        "            score = objective(particle.position)\n",
        "            if score < particle.best_score:\n",
        "                particle.best_score = score\n",
        "                particle.best_position = list(particle.position)\n",
        "\n",
        "            if score < global_best_score:\n",
        "                global_best_score = score\n",
        "                global_best_position = list(particle.position)\n",
        "\n",
        "        for particle in particles:\n",
        "            r1, r2 = np.random.rand(2)\n",
        "            for i in range(len(particle.position)):\n",
        "                cognitive_component = c1 * r1 * (particle.best_position[i] - particle.position[i])\n",
        "                social_component = c2 * r2 * (global_best_position[i] - particle.position[i])\n",
        "                particle.velocity[i] = w * particle.velocity[i] + cognitive_component + social_component\n",
        "                particle.position[i] = int((particle.position[i] + particle.velocity[i]) % num_meals)\n",
        "\n",
        "            # unique meal indices\n",
        "            particle.position = list(set(particle.position))\n",
        "            while len(particle.position) < n_particles:\n",
        "                candidate = random.choice(range(num_meals))\n",
        "                if candidate not in particle.position:\n",
        "                    particle.position.append(candidate)\n",
        "\n",
        "    return global_best_position, global_best_score"
      ],
      "metadata": {
        "id": "iQ2gg9oq52my"
      },
      "execution_count": 15,
      "outputs": []
    },
    {
      "cell_type": "code",
      "source": [
        "num_meals = len(meal_data)\n",
        "n_particles = 3  # Number of meals in a plan\n",
        "num_particles = 30\n",
        "num_iterations = 100"
      ],
      "metadata": {
        "id": "S_arlbxV6BVt"
      },
      "execution_count": 16,
      "outputs": []
    },
    {
      "cell_type": "code",
      "source": [
        "# Run PSO\n",
        "best_positions, best_score = particle_swarm_optimization(objective_function, num_meals, n_particles, num_particles, num_iterations)\n",
        "\n",
        "print(\"Optimal Meal Plan:\")\n",
        "for idx in best_positions:\n",
        "    meal = meal_data[idx]\n",
        "    print(f\"{meal['name']} - Calories: {meal['calories']}, Protein: {meal['protein']}g, Carbs: {meal['carbs']}g, Fats: {meal['fats']}g\")\n",
        "\n",
        "print(f\"Optimal Score: {best_score:.2f}\")"
      ],
      "metadata": {
        "colab": {
          "base_uri": "https://localhost:8080/"
        },
        "id": "Y4xXdl0P6L0i",
        "outputId": "89fd01b2-5bc1-419d-891c-6dfb6799d01d"
      },
      "execution_count": 17,
      "outputs": [
        {
          "output_type": "stream",
          "name": "stdout",
          "text": [
            "Optimal Meal Plan:\n",
            "Fish Curry - Calories: 350, Protein: 30g, Carbs: 5g, Fats: 12g\n",
            "Grilled Chicken - Calories: 300, Protein: 40g, Carbs: 10g, Fats: 8g\n",
            "Vegetable Salad - Calories: 250, Protein: 15g, Carbs: 40g, Fats: 5g\n",
            "Optimal Score: 475.00\n"
          ]
        }
      ]
    }
  ]
}